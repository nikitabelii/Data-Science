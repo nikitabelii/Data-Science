{
  "nbformat": 4,
  "nbformat_minor": 0,
  "metadata": {
    "colab": {
      "provenance": [],
      "gpuType": "T4"
    },
    "kernelspec": {
      "name": "python3",
      "display_name": "Python 3"
    },
    "language_info": {
      "name": "python"
    },
    "accelerator": "GPU"
  },
  "cells": [
    {
      "cell_type": "markdown",
      "source": [
        "Part 1\n"
      ],
      "metadata": {
        "id": "NW1VNX1DBfOK"
      }
    },
    {
      "cell_type": "code",
      "source": [
        "%%capture\n",
        "import numpy as np\n",
        "import matplotlib.pyplot as plt\n",
        "import torch\n",
        "from torchvision import datasets\n",
        "from skimage.util import montage\n",
        "!pip install wandb\n",
        "import wandb as wb\n",
        "from skimage.io import imread"
      ],
      "metadata": {
        "id": "MyHiLSocpj2Y"
      },
      "execution_count": 69,
      "outputs": []
    },
    {
      "cell_type": "code",
      "metadata": {
        "id": "tRpmxWj7pl2f"
      },
      "source": [
        "def GPU(data):\n",
        "    return torch.tensor(data, requires_grad=True, dtype=torch.float, device=torch.device('cuda'))\n",
        "\n",
        "def GPU_data(data):\n",
        "    return torch.tensor(data, requires_grad=False, dtype=torch.float, device=torch.device('cuda'))"
      ],
      "execution_count": 70,
      "outputs": []
    },
    {
      "cell_type": "code",
      "metadata": {
        "id": "1Wb_wkDZpl2f"
      },
      "source": [
        "def plot(x):\n",
        "    if type(x) == torch.Tensor :\n",
        "        x = x.cpu().detach().numpy()\n",
        "\n",
        "    fig, ax = plt.subplots()\n",
        "    im = ax.imshow(x, cmap = 'gray')\n",
        "    ax.axis('off')\n",
        "    fig.set_size_inches(7, 7)\n",
        "    plt.show()"
      ],
      "execution_count": 71,
      "outputs": []
    },
    {
      "cell_type": "code",
      "metadata": {
        "id": "49-KePVupl2g"
      },
      "source": [
        "def montage_plot(x):\n",
        "    x = np.pad(x, pad_width=((0, 0), (1, 1), (1, 1)), mode='constant', constant_values=0)\n",
        "    plot(montage(x))"
      ],
      "execution_count": 72,
      "outputs": []
    },
    {
      "cell_type": "code",
      "metadata": {
        "id": "frk1nplIpl2g"
      },
      "source": [
        "# #MNIST\n",
        "train_set = datasets.MNIST('./data', train=True, download=True)\n",
        "test_set = datasets.MNIST('./data', train=False, download=True)\n",
        "\n",
        "#KMNIST\n",
        "#train_set = datasets.KMNIST('./data', train=True, download=True)\n",
        "#test_set = datasets.KMNIST('./data', train=False, download=True)\n",
        "\n",
        "#Fashion MNIST\n",
        "# train_set = datasets.FashionMNIST('./data', train=True, download=True)\n",
        "# test_set = datasets.FashionMNIST('./data', train=False, download=True)"
      ],
      "execution_count": 73,
      "outputs": []
    },
    {
      "cell_type": "code",
      "source": [],
      "metadata": {
        "id": "-rgXoALJCPwI"
      },
      "execution_count": 73,
      "outputs": []
    },
    {
      "cell_type": "code",
      "source": [
        "%%capture\n",
        "import numpy as np\n",
        "import matplotlib.pyplot as plt\n",
        "import torch\n",
        "from torchvision import datasets\n",
        "from skimage.util import montage\n",
        "!pip install wandb\n",
        "import wandb as wb\n",
        "from skimage.io import imread"
      ],
      "metadata": {
        "id": "bCvzctuvCQK_"
      },
      "execution_count": 74,
      "outputs": []
    },
    {
      "cell_type": "code",
      "metadata": {
        "id": "eUV3CaWTCQLB"
      },
      "source": [
        "def GPU(data):\n",
        "    return torch.tensor(data, requires_grad=True, dtype=torch.float, device=torch.device('cuda'))\n",
        "\n",
        "def GPU_data(data):\n",
        "    return torch.tensor(data, requires_grad=False, dtype=torch.float, device=torch.device('cuda'))"
      ],
      "execution_count": 75,
      "outputs": []
    },
    {
      "cell_type": "code",
      "metadata": {
        "id": "qEKEg6JDCQLB"
      },
      "source": [
        "def plot(x):\n",
        "    if type(x) == torch.Tensor :\n",
        "        x = x.cpu().detach().numpy()\n",
        "\n",
        "    fig, ax = plt.subplots()\n",
        "    im = ax.imshow(x, cmap = 'gray')\n",
        "    ax.axis('off')\n",
        "    fig.set_size_inches(7, 7)\n",
        "    plt.show()"
      ],
      "execution_count": 76,
      "outputs": []
    },
    {
      "cell_type": "code",
      "metadata": {
        "id": "d_fs54unCQLC"
      },
      "source": [
        "def montage_plot(x):\n",
        "    x = np.pad(x, pad_width=((0, 0), (1, 1), (1, 1)), mode='constant', constant_values=0)\n",
        "    plot(montage(x))"
      ],
      "execution_count": 77,
      "outputs": []
    },
    {
      "cell_type": "code",
      "metadata": {
        "id": "1csJtRU5CQLC"
      },
      "source": [
        "# #MNIST\n",
        "train_set = datasets.MNIST('./data', train=True, download=True)\n",
        "test_set = datasets.MNIST('./data', train=False, download=True)\n",
        "\n",
        "#KMNIST\n",
        "#train_set = datasets.KMNIST('./data', train=True, download=True)\n",
        "#test_set = datasets.KMNIST('./data', train=False, download=True)\n",
        "\n",
        "#Fashion MNIST\n",
        "# train_set = datasets.FashionMNIST('./data', train=True, download=True)\n",
        "# test_set = datasets.FashionMNIST('./data', train=False, download=True)"
      ],
      "execution_count": 78,
      "outputs": []
    },
    {
      "cell_type": "code",
      "metadata": {
        "id": "gg-B6om4pl2g"
      },
      "source": [
        "X = train_set.data.numpy()\n",
        "X_test = test_set.data.numpy()\n",
        "Y = train_set.targets.numpy()\n",
        "Y_test = test_set.targets.numpy()\n",
        "\n",
        "X = X[:,None,:,:]/255\n",
        "X_test = X_test[:,None,:,:]/255"
      ],
      "execution_count": 79,
      "outputs": []
    },
    {
      "cell_type": "code",
      "metadata": {
        "colab": {
          "base_uri": "https://localhost:8080/"
        },
        "outputId": "b261c8fa-ae16-470c-a973-d50c7591862d",
        "id": "1vBIL7dhpl2h"
      },
      "source": [
        "X.shape"
      ],
      "execution_count": 80,
      "outputs": [
        {
          "output_type": "execute_result",
          "data": {
            "text/plain": [
              "(60000, 1, 28, 28)"
            ]
          },
          "metadata": {},
          "execution_count": 80
        }
      ]
    },
    {
      "cell_type": "code",
      "source": [
        "x = X[3,0,:,:]"
      ],
      "metadata": {
        "id": "hkS1MDAICmed"
      },
      "execution_count": 81,
      "outputs": []
    },
    {
      "cell_type": "code",
      "source": [
        "plt.imshow(x)"
      ],
      "metadata": {
        "colab": {
          "base_uri": "https://localhost:8080/",
          "height": 447
        },
        "id": "Ey0eWrWQC1xM",
        "outputId": "906dabf6-eb8f-4f6f-9bd1-c40105e0cffa"
      },
      "execution_count": 82,
      "outputs": [
        {
          "output_type": "execute_result",
          "data": {
            "text/plain": [
              "<matplotlib.image.AxesImage at 0x7f457a7bc700>"
            ]
          },
          "metadata": {},
          "execution_count": 82
        },
        {
          "output_type": "display_data",
          "data": {
            "text/plain": [
              "<Figure size 640x480 with 1 Axes>"
            ],
            "image/png": "[encoded data removed]"
          },
          "metadata": {}
        }
      ]
    },
    {
      "cell_type": "code",
      "source": [
        "plot(x)"
      ],
      "metadata": {
        "colab": {
          "base_uri": "https://localhost:8080/",
          "height": 576
        },
        "id": "Sts6RnquDhk7",
        "outputId": "ab77a203-0751-4587-e6dc-8717d2323365"
      },
      "execution_count": 83,
      "outputs": [
        {
          "output_type": "display_data",
          "data": {
            "text/plain": [
              "<Figure size 700x700 with 1 Axes>"
            ],
            "image/png": "[encoded data removed]"
          },
          "metadata": {}
        }
      ]
    },
    {
      "cell_type": "code",
      "source": [
        "x.shape"
      ],
      "metadata": {
        "colab": {
          "base_uri": "https://localhost:8080/"
        },
        "id": "kUIWiq0LElLM",
        "outputId": "e8a49f25-276b-4360-c807-e1808cc8b2d4"
      },
      "execution_count": 84,
      "outputs": [
        {
          "output_type": "execute_result",
          "data": {
            "text/plain": [
              "(28, 28)"
            ]
          },
          "metadata": {},
          "execution_count": 84
        }
      ]
    },
    {
      "cell_type": "code",
      "source": [
        "x.shape[0]"
      ],
      "metadata": {
        "colab": {
          "base_uri": "https://localhost:8080/"
        },
        "id": "AMNAyQkvEm2S",
        "outputId": "7d0ef651-f817-46a3-b336-8524298eb83a"
      },
      "execution_count": 85,
      "outputs": [
        {
          "output_type": "execute_result",
          "data": {
            "text/plain": [
              "28"
            ]
          },
          "metadata": {},
          "execution_count": 85
        }
      ]
    },
    {
      "cell_type": "code",
      "source": [
        "x.shape[1]"
      ],
      "metadata": {
        "colab": {
          "base_uri": "https://localhost:8080/"
        },
        "id": "jy2J7xliEsFq",
        "outputId": "edf55aa0-4e38-495a-a89d-c8fdd69e61f2"
      },
      "execution_count": 86,
      "outputs": [
        {
          "output_type": "execute_result",
          "data": {
            "text/plain": [
              "28"
            ]
          },
          "metadata": {},
          "execution_count": 86
        }
      ]
    },
    {
      "cell_type": "code",
      "source": [
        "x = x.reshape(x.shape[0]*x.shape[1],1)"
      ],
      "metadata": {
        "id": "MVzBMr3ODJbV"
      },
      "execution_count": 87,
      "outputs": []
    },
    {
      "cell_type": "code",
      "source": [
        "x.shape"
      ],
      "metadata": {
        "colab": {
          "base_uri": "https://localhost:8080/"
        },
        "id": "jN4wHqbpDkox",
        "outputId": "64ff44e5-d83b-4894-94d5-06a8cd904eb0"
      },
      "execution_count": 88,
      "outputs": [
        {
          "output_type": "execute_result",
          "data": {
            "text/plain": [
              "(784, 1)"
            ]
          },
          "metadata": {},
          "execution_count": 88
        }
      ]
    },
    {
      "cell_type": "code",
      "source": [
        "x = x.reshape(28,28)"
      ],
      "metadata": {
        "id": "yiRk_VSSD_vz"
      },
      "execution_count": 89,
      "outputs": []
    },
    {
      "cell_type": "code",
      "source": [
        "plot(x)"
      ],
      "metadata": {
        "colab": {
          "base_uri": "https://localhost:8080/",
          "height": 576
        },
        "id": "1n3-IkGeEF6T",
        "outputId": "cc27b472-b91d-4b1e-fc1e-3819a9b08526"
      },
      "execution_count": 90,
      "outputs": [
        {
          "output_type": "display_data",
          "data": {
            "text/plain": [
              "<Figure size 700x700 with 1 Axes>"
            ],
            "image/png": "[encoded data removed]"
          },
          "metadata": {}
        }
      ]
    },
    {
      "cell_type": "code",
      "metadata": {
        "colab": {
          "base_uri": "https://localhost:8080/",
          "height": 576
        },
        "outputId": "ccd571ab-f453-41a6-a8a0-d257ff46036b",
        "id": "_o384DZXpl2h"
      },
      "source": [
        "plot(X[100,0,:,:])"
      ],
      "execution_count": 91,
      "outputs": [
        {
          "output_type": "display_data",
          "data": {
            "text/plain": [
              "<Figure size 700x700 with 1 Axes>"
            ],
            "image/png": "[encoded data removed]"
          },
          "metadata": {}
        }
      ]
    },
    {
      "cell_type": "code",
      "metadata": {
        "colab": {
          "base_uri": "https://localhost:8080/"
        },
        "outputId": "d62fcfab-5a3f-4ae7-c048-12ff86d0142a",
        "id": "3-RBJefNpl2h"
      },
      "source": [
        "Y[120]"
      ],
      "execution_count": 92,
      "outputs": [
        {
          "output_type": "execute_result",
          "data": {
            "text/plain": [
              "2"
            ]
          },
          "metadata": {},
          "execution_count": 92
        }
      ]
    },
    {
      "cell_type": "code",
      "metadata": {
        "colab": {
          "base_uri": "https://localhost:8080/"
        },
        "outputId": "564ca450-d3e0-48b2-d474-b01334d62fa8",
        "id": "WLY5zYmkpl2i"
      },
      "source": [
        "X[0:25,0,:,:].shape"
      ],
      "execution_count": 93,
      "outputs": [
        {
          "output_type": "execute_result",
          "data": {
            "text/plain": [
              "(25, 28, 28)"
            ]
          },
          "metadata": {},
          "execution_count": 93
        }
      ]
    },
    {
      "cell_type": "code",
      "metadata": {
        "colab": {
          "base_uri": "https://localhost:8080/",
          "height": 576
        },
        "outputId": "4c0e0d26-d5ec-45bb-cd9a-67286be1e425",
        "id": "o-E8Pm-_pl2i"
      },
      "source": [
        "montage_plot(X[125:150,0,:,:])"
      ],
      "execution_count": 94,
      "outputs": [
        {
          "output_type": "display_data",
          "data": {
            "text/plain": [
              "<Figure size 700x700 with 1 Axes>"
            ],
            "image/png": "[encoded data removed]"
          },
          "metadata": {}
        }
      ]
    },
    {
      "cell_type": "markdown",
      "source": [
        "Part 2"
      ],
      "metadata": {
        "id": "KtXq3G_UCcDB"
      }
    },
    {
      "cell_type": "code",
      "metadata": {
        "id": "CJRGYxtBpl2j"
      },
      "source": [
        "X = X.reshape(X.shape[0],784) #reshape image tensor\n",
        "X_test = X_test.reshape(X_test.shape[0],784) #reshape image test data tensor"
      ],
      "execution_count": 95,
      "outputs": []
    },
    {
      "cell_type": "code",
      "metadata": {
        "colab": {
          "base_uri": "https://localhost:8080/"
        },
        "outputId": "23b0a8e0-976a-4167-f02d-47b9dde13cbc",
        "id": "LWUPirgjpl2j"
      },
      "source": [
        "X.shape,X_test.shape"
      ],
      "execution_count": 96,
      "outputs": [
        {
          "output_type": "execute_result",
          "data": {
            "text/plain": [
              "((60000, 784), (10000, 784))"
            ]
          },
          "metadata": {},
          "execution_count": 96
        }
      ]
    },
    {
      "cell_type": "code",
      "source": [
        "X = GPU_data(X)\n",
        "Y = GPU_data(Y)\n",
        "X_test = GPU_data(X_test)\n",
        "Y_test = GPU_data(Y_test)"
      ],
      "metadata": {
        "id": "r0vN3uZKDIrf"
      },
      "execution_count": 97,
      "outputs": []
    },
    {
      "cell_type": "code",
      "source": [],
      "metadata": {
        "id": "h8lLa5RLHgpt"
      },
      "execution_count": 97,
      "outputs": []
    },
    {
      "cell_type": "code",
      "source": [
        "X = X.T"
      ],
      "metadata": {
        "id": "SD3LnOUGG15-"
      },
      "execution_count": 98,
      "outputs": []
    },
    {
      "cell_type": "code",
      "source": [
        "x = X[:,0:64]"
      ],
      "metadata": {
        "id": "QcW8gTw-HuwH"
      },
      "execution_count": 99,
      "outputs": []
    },
    {
      "cell_type": "code",
      "source": [
        "Y[0:64]"
      ],
      "metadata": {
        "colab": {
          "base_uri": "https://localhost:8080/"
        },
        "id": "IkBALdPWHy-X",
        "outputId": "a6fb1c1b-cf70-498e-a583-632232dccc88"
      },
      "execution_count": 100,
      "outputs": [
        {
          "output_type": "execute_result",
          "data": {
            "text/plain": [
              "tensor([5., 0., 4., 1., 9., 2., 1., 3., 1., 4., 3., 5., 3., 6., 1., 7., 2., 8.,\n",
              "        6., 9., 4., 0., 9., 1., 1., 2., 4., 3., 2., 7., 3., 8., 6., 9., 0., 5.,\n",
              "        6., 0., 7., 6., 1., 8., 7., 9., 3., 9., 8., 5., 9., 3., 3., 0., 7., 4.,\n",
              "        9., 8., 0., 9., 4., 1., 4., 4., 6., 0.], device='cuda:0')"
            ]
          },
          "metadata": {},
          "execution_count": 100
        }
      ]
    },
    {
      "cell_type": "code",
      "source": [
        "M = GPU(np.random.rand(10,784))"
      ],
      "metadata": {
        "id": "6Ke1AL2NG-d9"
      },
      "execution_count": 101,
      "outputs": []
    },
    {
      "cell_type": "code",
      "source": [
        "y = M@x"
      ],
      "metadata": {
        "id": "fCCxl8kuI33s"
      },
      "execution_count": 102,
      "outputs": []
    },
    {
      "cell_type": "code",
      "source": [
        "torch.max(y,0)"
      ],
      "metadata": {
        "colab": {
          "base_uri": "https://localhost:8080/"
        },
        "id": "dAn4IaAsKE69",
        "outputId": "4f633a8d-8391-47c2-c796-7a2985de810c"
      },
      "execution_count": 103,
      "outputs": [
        {
          "output_type": "execute_result",
          "data": {
            "text/plain": [
              "torch.return_types.max(\n",
              "values=tensor([58.9444, 64.5885, 41.1630, 36.9867, 49.5572, 60.9776, 36.5958, 74.6643,\n",
              "        23.4175, 47.0561, 58.6014, 30.8436, 74.8647, 62.9859, 25.5917, 51.6651,\n",
              "        50.9064, 56.0588, 28.1925, 37.3118, 71.9941, 71.9504, 32.9826, 36.3660,\n",
              "        46.1227, 84.9896, 29.9855, 94.4051, 86.6955, 33.8281, 53.3624, 66.0704,\n",
              "        37.1405, 45.3339, 76.0105, 35.4638, 66.6888, 77.1879, 44.3258, 56.1007,\n",
              "        30.2977, 58.2698, 26.8387, 38.6879, 37.3160, 49.9373, 47.4560, 48.3328,\n",
              "        36.6804, 68.6570, 39.6232, 92.5977, 56.7192, 35.3900, 51.0147, 68.1676,\n",
              "        85.8689, 42.3691, 70.8639, 34.7106, 61.4438, 39.5963, 61.1758, 93.9128],\n",
              "       device='cuda:0', grad_fn=<MaxBackward0>),\n",
              "indices=tensor([0, 8, 5, 8, 8, 8, 9, 0, 4, 0, 2, 0, 1, 8, 9, 2, 0, 8, 5, 0, 7, 2, 3, 8,\n",
              "        8, 5, 0, 1, 9, 8, 7, 3, 8, 2, 4, 2, 5, 2, 7, 8, 5, 8, 2, 0, 7, 8, 2, 0,\n",
              "        0, 0, 5, 8, 0, 8, 0, 8, 7, 7, 5, 9, 3, 6, 8, 8], device='cuda:0'))"
            ]
          },
          "metadata": {},
          "execution_count": 103
        }
      ]
    },
    {
      "cell_type": "code",
      "source": [
        "y = torch.argmax(y,0)"
      ],
      "metadata": {
        "id": "6BL4Z02EJCzc"
      },
      "execution_count": 104,
      "outputs": []
    },
    {
      "cell_type": "code",
      "source": [
        "torch.sum((y == Y[0:64]))"
      ],
      "metadata": {
        "colab": {
          "base_uri": "https://localhost:8080/"
        },
        "id": "RmdOhGJSKgEK",
        "outputId": "f821b966-1ae9-4110-f5d0-636a3c5f6c92"
      },
      "execution_count": 105,
      "outputs": [
        {
          "output_type": "execute_result",
          "data": {
            "text/plain": [
              "tensor(4, device='cuda:0')"
            ]
          },
          "metadata": {},
          "execution_count": 105
        }
      ]
    },
    {
      "cell_type": "code",
      "source": [
        "torch.sum((y == Y[0:64]))/64"
      ],
      "metadata": {
        "id": "Y_vbum_LKix6",
        "outputId": "7e8a5b46-75ec-46cb-e65b-136013e963be",
        "colab": {
          "base_uri": "https://localhost:8080/"
        }
      },
      "execution_count": 106,
      "outputs": [
        {
          "output_type": "execute_result",
          "data": {
            "text/plain": [
              "tensor(0.0625, device='cuda:0')"
            ]
          },
          "metadata": {},
          "execution_count": 106
        }
      ]
    },
    {
      "cell_type": "code",
      "source": [
        "batch_size = 64\n",
        "\n",
        "M = GPU(np.random.rand(10,784))\n",
        "\n",
        "y = M@x\n",
        "\n",
        "y = torch.argmax(y,0)\n",
        "\n",
        "torch.sum((y == Y[0:batch_size]))/batch_size"
      ],
      "metadata": {
        "colab": {
          "base_uri": "https://localhost:8080/"
        },
        "id": "rvBOU7RDBj5T",
        "outputId": "efa02cbe-25cf-43fc-cf26-aeee875c1d53"
      },
      "execution_count": 107,
      "outputs": [
        {
          "output_type": "execute_result",
          "data": {
            "text/plain": [
              "tensor(0.1094, device='cuda:0')"
            ]
          },
          "metadata": {},
          "execution_count": 107
        }
      ]
    },
    {
      "cell_type": "code",
      "source": [
        "X=X.T"
      ],
      "metadata": {
        "id": "qWAeNqmpFhPI"
      },
      "execution_count": 108,
      "outputs": []
    },
    {
      "cell_type": "markdown",
      "source": [
        "Part 3\n"
      ],
      "metadata": {
        "id": "IzM8jXwFGuqD"
      }
    },
    {
      "cell_type": "code",
      "source": [
        "M_Best = 0\n",
        "Score_Best = 0\n",
        "\n",
        "for i in range(100000):\n",
        "\n",
        "    M_new = GPU(np.random.rand(10,784))\n",
        "\n",
        "    y = M_new@x\n",
        "\n",
        "    y = torch.argmax(y,0)\n",
        "\n",
        "    Score = (torch.sum((y == Y[0:batch_size]))/batch_size).item()\n",
        "\n",
        "    if Score > Score_Best:\n",
        "\n",
        "        Score_Best = Score\n",
        "        M_Best = M_new\n",
        "\n",
        "        print(i,Score_Best)\n",
        "\n"
      ],
      "metadata": {
        "id": "6eVpNWpUBgiz",
        "colab": {
          "base_uri": "https://localhost:8080/"
        },
        "outputId": "7b6bd8af-884a-4269-887c-045e8ed7db38"
      },
      "execution_count": 109,
      "outputs": [
        {
          "output_type": "stream",
          "name": "stdout",
          "text": [
            "0 0.078125\n",
            "3 0.1875\n",
            "13 0.203125\n",
            "111 0.21875\n",
            "288 0.234375\n",
            "1173 0.265625\n",
            "5021 0.3125\n",
            "43149 0.328125\n"
          ]
        }
      ]
    }
  ]
}